{
 "cells": [
  {
   "cell_type": "code",
   "execution_count": 1,
   "metadata": {},
   "outputs": [],
   "source": [
    "import numpy as np\n",
    "import matplotlib.pyplot as plt\n",
    "import pandas as pd\n",
    "import seaborn as sns"
   ]
  },
  {
   "cell_type": "code",
   "execution_count": 8,
   "metadata": {},
   "outputs": [],
   "source": [
    "df_=pd.read_csv('raw_dataset.csv')\n",
    "df=df_.copy()"
   ]
  },
  {
   "cell_type": "code",
   "execution_count": 16,
   "metadata": {},
   "outputs": [],
   "source": [
    "def check_df(dataframe,rows=5,plot=False):\n",
    "    cat_cols=[col for col in dataframe.columns if str(dataframe[col].dtypes) in [\"object\",\"category\",\"bool\"]]\n",
    "    num_cols=[col for col in dataframe.columns if col not in cat_cols]\n",
    "    print(\"----------------------------------------Head----------------------------------------\")\n",
    "    print(dataframe.head(rows))\n",
    "    print(\"----------------------------------------Tail----------------------------------------\")\n",
    "    print(dataframe.tail(rows))\n",
    "    print(\"----------------------------------------Shape----------------------------------------\")\n",
    "    print(dataframe.shape)\n",
    "    print(\"----------------------------------------Info----------------------------------------\")\n",
    "    print(dataframe.info())\n",
    "    print(\"----------------------------------------Columns----------------------------------------\")\n",
    "    print(dataframe.columns)\n",
    "    print(\"----------------------------------------Index----------------------------------------\")\n",
    "    print(dataframe.index)\n",
    "    print(\"----------------------------------------Null Count----------------------------------------\")\n",
    "    print(dataframe.isnull().sum())\n",
    "    print(\"----------------------------------------Describe----------------------------------------\")\n",
    "    print(dataframe.describe([0.05,0.25,0.5,0.75,0.95,0.99]).T)\n",
    "    def cat_summary(dataframe):\n",
    "        for col in cat_cols:\n",
    "            print(\"---------------\"+col+\"---------------\")\n",
    "            print(pd.DataFrame({\"Count\":dataframe[col].value_counts(),\n",
    "                                \"Ratio\":100*dataframe[col].value_counts()/len(dataframe)}))\n",
    "            if plot:\n",
    "                sns.countplot(x=col,data=dataframe)\n",
    "                plt.show(block=True)\n",
    "    cat_summary(dataframe)"
   ]
  },
  {
   "cell_type": "code",
   "execution_count": 17,
   "metadata": {},
   "outputs": [
    {
     "name": "stdout",
     "output_type": "stream",
     "text": [
      "----------------------------------------Head----------------------------------------\n",
      "   empid  satisfaction_level  last_evaluation  number_project  \\\n",
      "0      1                0.38             0.53               2   \n",
      "1      2                0.80             0.86               5   \n",
      "2      3                0.11             0.88               7   \n",
      "3      4                0.72             0.87               5   \n",
      "4      5                0.37             0.52               2   \n",
      "\n",
      "   average_montly_hours  time_spend_company  Work_accident  \\\n",
      "0                   157                   3              0   \n",
      "1                   262                   6              0   \n",
      "2                   272                   4              0   \n",
      "3                   223                   5              0   \n",
      "4                   159                   3              0   \n",
      "\n",
      "   promotion_last_5years  salary  left  \n",
      "0                      0     low     1  \n",
      "1                      0  medium     1  \n",
      "2                      0  medium     1  \n",
      "3                      0     low     1  \n",
      "4                      0     low     1  \n",
      "----------------------------------------Tail----------------------------------------\n",
      "       empid  satisfaction_level  last_evaluation  number_project  \\\n",
      "14994  14995                0.40             0.57               2   \n",
      "14995  14996                0.37             0.48               2   \n",
      "14996  14997                0.37             0.53               2   \n",
      "14997  14998                0.11             0.96               6   \n",
      "14998  14999                0.37             0.52               2   \n",
      "\n",
      "       average_montly_hours  time_spend_company  Work_accident  \\\n",
      "14994                   151                   3              0   \n",
      "14995                   160                   3              0   \n",
      "14996                   143                   3              0   \n",
      "14997                   280                   4              0   \n",
      "14998                   158                   3              0   \n",
      "\n",
      "       promotion_last_5years salary  left  \n",
      "14994                      0    low     1  \n",
      "14995                      0    low     1  \n",
      "14996                      0    low     1  \n",
      "14997                      0    low     1  \n",
      "14998                      0    low     1  \n",
      "----------------------------------------Shape----------------------------------------\n",
      "(14999, 10)\n",
      "----------------------------------------Info----------------------------------------\n",
      "<class 'pandas.core.frame.DataFrame'>\n",
      "RangeIndex: 14999 entries, 0 to 14998\n",
      "Data columns (total 10 columns):\n",
      " #   Column                 Non-Null Count  Dtype  \n",
      "---  ------                 --------------  -----  \n",
      " 0   empid                  14999 non-null  int64  \n",
      " 1   satisfaction_level     14997 non-null  float64\n",
      " 2   last_evaluation        14999 non-null  float64\n",
      " 3   number_project         14999 non-null  int64  \n",
      " 4   average_montly_hours   14999 non-null  int64  \n",
      " 5   time_spend_company     14999 non-null  int64  \n",
      " 6   Work_accident          14999 non-null  int64  \n",
      " 7   promotion_last_5years  14999 non-null  int64  \n",
      " 8   salary                 14999 non-null  object \n",
      " 9   left                   14999 non-null  int64  \n",
      "dtypes: float64(2), int64(7), object(1)\n",
      "memory usage: 1.1+ MB\n",
      "None\n",
      "----------------------------------------Columns----------------------------------------\n",
      "Index(['empid', 'satisfaction_level', 'last_evaluation', 'number_project',\n",
      "       'average_montly_hours', 'time_spend_company', 'Work_accident',\n",
      "       'promotion_last_5years', 'salary', 'left'],\n",
      "      dtype='object')\n",
      "----------------------------------------Index----------------------------------------\n",
      "RangeIndex(start=0, stop=14999, step=1)\n",
      "----------------------------------------Null Count----------------------------------------\n",
      "empid                    0\n",
      "satisfaction_level       2\n",
      "last_evaluation          0\n",
      "number_project           0\n",
      "average_montly_hours     0\n",
      "time_spend_company       0\n",
      "Work_accident            0\n",
      "promotion_last_5years    0\n",
      "salary                   0\n",
      "left                     0\n",
      "dtype: int64\n",
      "----------------------------------------Describe----------------------------------------\n",
      "                         count         mean          std    min      5%  \\\n",
      "empid                  14999.0  7500.000000  4329.982679   1.00  750.90   \n",
      "satisfaction_level     14997.0     0.612863     0.248634   0.09    0.11   \n",
      "last_evaluation        14999.0     0.716102     0.171169   0.36    0.46   \n",
      "number_project         14999.0     3.803054     1.232592   2.00    2.00   \n",
      "average_montly_hours   14999.0   201.050337    49.943099  96.00  130.00   \n",
      "time_spend_company     14999.0     3.498233     1.460136   2.00    2.00   \n",
      "Work_accident          14999.0     0.144610     0.351719   0.00    0.00   \n",
      "promotion_last_5years  14999.0     0.021268     0.144281   0.00    0.00   \n",
      "left                   14999.0     0.238083     0.425924   0.00    0.00   \n",
      "\n",
      "                           25%      50%       75%       95%       99%      max  \n",
      "empid                  3750.50  7500.00  11249.50  14249.10  14849.02  14999.0  \n",
      "satisfaction_level        0.44     0.64      0.82      0.96      0.99      1.0  \n",
      "last_evaluation           0.56     0.72      0.87      0.98      1.00      1.0  \n",
      "number_project            3.00     4.00      5.00      6.00      7.00      7.0  \n",
      "average_montly_hours    156.00   200.00    245.00    275.00    301.00    310.0  \n",
      "time_spend_company        3.00     3.00      4.00      6.00     10.00     10.0  \n",
      "Work_accident             0.00     0.00      0.00      1.00      1.00      1.0  \n",
      "promotion_last_5years     0.00     0.00      0.00      0.00      1.00      1.0  \n",
      "left                      0.00     0.00      0.00      1.00      1.00      1.0  \n",
      "---------------salary---------------\n",
      "        Count      Ratio\n",
      "salary                  \n",
      "low      7316  48.776585\n",
      "medium   6446  42.976198\n",
      "high     1237   8.247216\n"
     ]
    },
    {
     "data": {
      "image/png": "[encoded data removed]",
      "text/plain": [
       "<Figure size 640x480 with 1 Axes>"
      ]
     },
     "metadata": {},
     "output_type": "display_data"
    }
   ],
   "source": [
    "check_df(df,plot=True)"
   ]
  },
  {
   "cell_type": "markdown",
   "metadata": {},
   "source": [
    "## Notes\n",
    "##### As shown above we have a dataset with 9 numeric features (some of them is categorical) and 1 object feature.\n",
    "##### The numeric and categorical features are: Work_accident,left,promotion_last_5years\n",
    "##### The numeric and percentage features are: satisfaction_level,last_evaluation\n",
    "##### We have 2 missing values in the satisfaction_level feature.\n",
    "##### There is an imbalance in the distribution of the salary feature, it may point to the management staff    "
   ]
  },
  {
   "cell_type": "code",
   "execution_count": 18,
   "metadata": {},
   "outputs": [
    {
     "data": {
      "image/png": "[encoded data removed]",
      "text/plain": [
       "<Figure size 640x480 with 1 Axes>"
      ]
     },
     "metadata": {},
     "output_type": "display_data"
    }
   ],
   "source": [
    "sns.countplot(x='left',data=df);"
   ]
  },
  {
   "cell_type": "code",
   "execution_count": 41,
   "metadata": {},
   "outputs": [
    {
     "data": {
      "text/html": [
       "<div>\n",
       "<style scoped>\n",
       "    .dataframe tbody tr th:only-of-type {\n",
       "        vertical-align: middle;\n",
       "    }\n",
       "\n",
       "    .dataframe tbody tr th {\n",
       "        vertical-align: top;\n",
       "    }\n",
       "\n",
       "    .dataframe thead th {\n",
       "        text-align: right;\n",
       "    }\n",
       "</style>\n",
       "<table border=\"1\" class=\"dataframe\">\n",
       "  <thead>\n",
       "    <tr style=\"text-align: right;\">\n",
       "      <th></th>\n",
       "      <th>left</th>\n",
       "      <th>0</th>\n",
       "      <th>1</th>\n",
       "    </tr>\n",
       "    <tr>\n",
       "      <th>salary</th>\n",
       "      <th>promotion_last_5years</th>\n",
       "      <th></th>\n",
       "      <th></th>\n",
       "    </tr>\n",
       "  </thead>\n",
       "  <tbody>\n",
       "    <tr>\n",
       "      <th rowspan=\"2\" valign=\"top\">high</th>\n",
       "      <th>0</th>\n",
       "      <td>92.961373</td>\n",
       "      <td>7.038627</td>\n",
       "    </tr>\n",
       "    <tr>\n",
       "      <th>1</th>\n",
       "      <td>100.000000</td>\n",
       "      <td>0.000000</td>\n",
       "    </tr>\n",
       "    <tr>\n",
       "      <th rowspan=\"2\" valign=\"top\">low</th>\n",
       "      <th>0</th>\n",
       "      <td>70.234483</td>\n",
       "      <td>29.765517</td>\n",
       "    </tr>\n",
       "    <tr>\n",
       "      <th>1</th>\n",
       "      <td>78.787879</td>\n",
       "      <td>21.212121</td>\n",
       "    </tr>\n",
       "    <tr>\n",
       "      <th rowspan=\"2\" valign=\"top\">medium</th>\n",
       "      <th>0</th>\n",
       "      <td>79.058260</td>\n",
       "      <td>20.941740</td>\n",
       "    </tr>\n",
       "    <tr>\n",
       "      <th>1</th>\n",
       "      <td>97.237569</td>\n",
       "      <td>2.762431</td>\n",
       "    </tr>\n",
       "  </tbody>\n",
       "</table>\n",
       "</div>"
      ],
      "text/plain": [
       "left                                   0          1\n",
       "salary promotion_last_5years                       \n",
       "high   0                       92.961373   7.038627\n",
       "       1                      100.000000   0.000000\n",
       "low    0                       70.234483  29.765517\n",
       "       1                       78.787879  21.212121\n",
       "medium 0                       79.058260  20.941740\n",
       "       1                       97.237569   2.762431"
      ]
     },
     "execution_count": 41,
     "metadata": {},
     "output_type": "execute_result"
    }
   ],
   "source": [
    "pd.crosstab([df['salary'], df[\"promotion_last_5years\"]],df['left'], normalize='index') * 100\n"
   ]
  },
  {
   "cell_type": "code",
   "execution_count": null,
   "metadata": {
    "vscode": {
     "languageId": "groovy"
    }
   },
   "outputs": [
    {
     "data": {
      "image/png": "[encoded data removed]",
      "text/plain": [
       "<Figure size 640x480 with 1 Axes>"
      ]
     },
     "metadata": {},
     "output_type": "display_data"
    }
   ],
   "source": [
    "result = pd.crosstab([df['salary'], df[\"promotion_last_5years\"]],df['left'], normalize='index') * 100\n",
    "result.plot(kind='bar', stacked=True)\n",
    "plt.xlabel('Salary and Promotion Last 5 Years')\n",
    "plt.ylabel('Percentage')\n",
    "plt.title('Percentage of Employees by Salary and Promotion Last 5 Years')\n",
    "plt.legend(title='Left')\n",
    "plt.show()"
   ]
  },
  {
   "cell_type": "markdown",
   "metadata": {},
   "source": [
    "## Notes\n",
    "##### We can see that none of the high salary employees that got promoted in the last 5 years had left the company.\n",
    "##### The low salary employees that didn't get promoted in the last 5 years are the most likely to leave the company.\n",
    "##### The promoted low salary employees and the not promoted medium salary employees are equally likely to leave the company.\n",
    "##### We can assume that the promotion has an effect over the employees resign decision.(proof needed)"
   ]
  },
  {
   "cell_type": "code",
   "execution_count": 26,
   "metadata": {},
   "outputs": [
    {
     "data": {
      "text/plain": [
       "Index(['empid', 'satisfaction_level', 'last_evaluation', 'number_project',\n",
       "       'average_montly_hours', 'time_spend_company', 'Work_accident',\n",
       "       'promotion_last_5years', 'salary', 'left'],\n",
       "      dtype='object')"
      ]
     },
     "execution_count": 26,
     "metadata": {},
     "output_type": "execute_result"
    }
   ],
   "source": [
    "df.columns"
   ]
  },
  {
   "cell_type": "code",
   "execution_count": 42,
   "metadata": {},
   "outputs": [
    {
     "name": "stdout",
     "output_type": "stream",
     "text": [
      "<class 'pandas.core.frame.DataFrame'>\n",
      "RangeIndex: 14999 entries, 0 to 14998\n",
      "Data columns (total 10 columns):\n",
      " #   Column                 Non-Null Count  Dtype  \n",
      "---  ------                 --------------  -----  \n",
      " 0   empid                  14999 non-null  int64  \n",
      " 1   satisfaction_level     14997 non-null  float64\n",
      " 2   last_evaluation        14999 non-null  float64\n",
      " 3   number_project         14999 non-null  int64  \n",
      " 4   average_montly_hours   14999 non-null  int64  \n",
      " 5   time_spend_company     14999 non-null  int64  \n",
      " 6   Work_accident          14999 non-null  int64  \n",
      " 7   promotion_last_5years  14999 non-null  int64  \n",
      " 8   salary                 14999 non-null  object \n",
      " 9   left                   14999 non-null  int64  \n",
      "dtypes: float64(2), int64(7), object(1)\n",
      "memory usage: 1.1+ MB\n"
     ]
    }
   ],
   "source": [
    "df.info()"
   ]
  },
  {
   "cell_type": "code",
   "execution_count": null,
   "metadata": {},
   "outputs": [],
   "source": []
  }
 ],
 "metadata": {
  "kernelspec": {
   "display_name": "venv",
   "language": "python",
   "name": "python3"
  },
  "language_info": {
   "codemirror_mode": {
    "name": "ipython",
    "version": 3
   },
   "file_extension": ".py",
   "mimetype": "text/x-python",
   "name": "python",
   "nbconvert_exporter": "python",
   "pygments_lexer": "ipython3",
   "version": "3.11.4"
  }
 },
 "nbformat": 4,
 "nbformat_minor": 2
}
